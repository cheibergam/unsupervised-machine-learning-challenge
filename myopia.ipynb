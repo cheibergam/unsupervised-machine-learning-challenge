{
 "cells": [
  {
   "cell_type": "markdown",
   "id": "3c3f18b9",
   "metadata": {},
   "source": [
    "# Module 20 - Unsupervised Machine Learning Challenge"
   ]
  },
  {
   "cell_type": "markdown",
   "id": "61daa9e8",
   "metadata": {},
   "source": [
    "## Part 1: Prepare the Data\n",
    "\n",
    "* Reads the csv into pandas\n",
    "* Previews the DataFrame\n",
    "* Removes the MYOPIC column from the dataset\n",
    "* Standardizes the dataset using a scaler\n",
    "* Names the resulting DataFrame X"
   ]
  },
  {
   "cell_type": "code",
   "execution_count": null,
   "id": "e4af55f2",
   "metadata": {},
   "outputs": [],
   "source": []
  },
  {
   "cell_type": "markdown",
   "id": "0ab10fb4",
   "metadata": {},
   "source": [
    "## Part 2: Apply Dimensionality Reduction\n",
    "\n",
    "* PCA model is created and used to reduce dimensions of the scaled dataset\n",
    "* A model’s explained variance is set to 90% (0.9)\n",
    "* e shape of the reduced dataset is examined for reduction in number of features\n",
    "* SNE model is created and used to reduce dimensions of the scaled dataset\n",
    "* SNE is used to create a plot of the reduced features"
   ]
  },
  {
   "cell_type": "code",
   "execution_count": null,
   "id": "9318d2ab",
   "metadata": {},
   "outputs": [],
   "source": []
  },
  {
   "cell_type": "markdown",
   "id": "286f655a",
   "metadata": {},
   "source": [
    "## Part 3: Perform a Cluster Analysis with K-means\n",
    "\n",
    "* A K-means model is created\n",
    "* A `for` loop is used to create a list of inertias for each `k` from 1 to 10, inclusive\n",
    "* A plot is created to examine any elbows that exist\n",
    "* States a brief (1-2 sentence) conclusion on whether patients can be clustered together, and supports it with findings"
   ]
  },
  {
   "cell_type": "code",
   "execution_count": null,
   "id": "8c470b2c",
   "metadata": {},
   "outputs": [],
   "source": []
  },
  {
   "cell_type": "markdown",
   "id": "8b83d8ca",
   "metadata": {},
   "source": [
    "## Part 4: Make a Recommendation"
   ]
  },
  {
   "cell_type": "code",
   "execution_count": null,
   "id": "d1c5aa8c",
   "metadata": {},
   "outputs": [],
   "source": []
  }
 ],
 "metadata": {
  "kernelspec": {
   "display_name": "Python 3 (ipykernel)",
   "language": "python",
   "name": "python3"
  },
  "language_info": {
   "codemirror_mode": {
    "name": "ipython",
    "version": 3
   },
   "file_extension": ".py",
   "mimetype": "text/x-python",
   "name": "python",
   "nbconvert_exporter": "python",
   "pygments_lexer": "ipython3",
   "version": "3.9.12"
  }
 },
 "nbformat": 4,
 "nbformat_minor": 5
}
